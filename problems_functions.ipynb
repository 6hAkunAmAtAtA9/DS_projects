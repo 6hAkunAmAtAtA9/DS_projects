{
  "nbformat": 4,
  "nbformat_minor": 0,
  "metadata": {
    "colab": {
      "provenance": []
    },
    "kernelspec": {
      "name": "python3",
      "display_name": "Python 3"
    },
    "language_info": {
      "name": "python"
    }
  },
  "cells": [
    {
      "cell_type": "code",
      "execution_count": null,
      "metadata": {
        "id": "sO38i1pitZl8"
      },
      "outputs": [],
      "source": [
        "documents = [\n",
        "{'type': 'passport', 'number': '2207 876234', 'name': 'Василий Гупкин'},\n",
        "{'type': 'invoice', 'number': '11-2', 'name': 'Геннадий Покемонов'},\n",
        "{'type': 'insurance', 'number': '10006', 'name': 'Аристарх Павлов'}\n",
        "]\n",
        "\n",
        "directories = {\n",
        "'1': ['2207 876234', '11-2'],\n",
        "'2': ['10006'],\n",
        "'3': []\n",
        "}"
      ]
    },
    {
      "cell_type": "code",
      "source": [
        "def print_directories():\n",
        "  for k in directories.keys():\n",
        "    print(k, end=' ')"
      ],
      "metadata": {
        "id": "bw2nWEEMefba"
      },
      "execution_count": null,
      "outputs": []
    },
    {
      "cell_type": "code",
      "execution_count": null,
      "metadata": {
        "id": "Ve9grI6-vuIw"
      },
      "outputs": [],
      "source": [
        "def showing_owner():\n",
        "  number_doc = input(\"Введите номер документа: \")\n",
        "  for document in documents:\n",
        "    for k,v in document.items():\n",
        "      if k == 'number' and v == number_doc:\n",
        "        print(\"Владелец документа:\", document['name'])\n",
        "        break"
      ]
    },
    {
      "cell_type": "code",
      "execution_count": null,
      "metadata": {
        "id": "MMVxFm4JyDln"
      },
      "outputs": [],
      "source": [
        "def showing_directories():\n",
        "  number_doc = input(\"Введите номер документа: \")\n",
        "  for k, v in directories.items():\n",
        "    if number_doc in v:\n",
        "      print(\"Документ хранится на полке:\", k)\n",
        "      break"
      ]
    },
    {
      "cell_type": "code",
      "execution_count": null,
      "metadata": {
        "id": "a-7RCcztzQxP"
      },
      "outputs": [],
      "source": [
        "def showing_information():\n",
        "  for document in documents:\n",
        "    for k, v in directories.items():\n",
        "      if document[\"number\"] in v:\n",
        "        polka = k\n",
        "        break\n",
        "    print('№:', str(document[\"number\"]) + ', тип:', str(document[\"type\"]) + ',',\n",
        "          'владелец:', str(document[\"name\"]) + ', полка хранения:', polka)"
      ]
    },
    {
      "cell_type": "code",
      "execution_count": null,
      "metadata": {
        "id": "0Mo1HKAA2upH"
      },
      "outputs": [],
      "source": [
        "def add():\n",
        "  number = input('Введите номер полки: ')\n",
        "\n",
        "  if number in directories.keys():\n",
        "    print(\"Такая полка уже существует. Текущий перечень полок:\", end=' ')\n",
        "    print_directories()\n",
        "\n",
        "  else:\n",
        "    directories[number] = []\n",
        "    print(\"Полка добавлена. Текущий перечень полок:\", end=' ')"
      ]
    },
    {
      "cell_type": "code",
      "source": [
        "def del_directory():\n",
        "  number = input('Введите номер полки: ')\n",
        "  if number in directories.keys():\n",
        "    if len(directories[number]) == 0:\n",
        "      del directories[number]\n",
        "      print('Полка удалена. Текущий перечень полок:', end=' ')\n",
        "      print_directories()\n",
        "    else:\n",
        "      print('На полке есть документа, удалите их перед удалением полки. Текущий перечень полок:', end=' ')\n",
        "      print_directories()\n",
        "  else:\n",
        "    print('Такой полки не существует. Текущий перечень полок:', end=' ')\n",
        "    print_directories()"
      ],
      "metadata": {
        "id": "NZAzXUP0c_bK"
      },
      "execution_count": null,
      "outputs": []
    },
    {
      "cell_type": "code",
      "execution_count": null,
      "metadata": {
        "colab": {
          "base_uri": "https://localhost:8080/"
        },
        "id": "O16eUCvxuyCm",
        "outputId": "dbc76464-2873-497a-944f-2625a555da51"
      },
      "outputs": [
        {
          "output_type": "stream",
          "name": "stdout",
          "text": [
            "Введите команду: ds\n",
            "Введите номер полки: 5\n",
            "Такой полки не существует. Текущий перечень полок:\n",
            "1 2 3 \n",
            "Введите команду: l\n",
            "№: 2207 876234, тип: passport, владелец: Василий Гупкин, полка хранения: 1\n",
            "№: 11-2, тип: invoice, владелец: Геннадий Покемонов, полка хранения: 1\n",
            "№: 10006, тип: insurance, владелец: Аристарх Павлов, полка хранения: 2\n",
            "\n",
            "Введите команду: q\n",
            "\n"
          ]
        }
      ],
      "source": [
        "command = ''\n",
        "while command != 'q':\n",
        "  command = input('Введите команду: ')\n",
        "  if command == 'p':\n",
        "    showing_owner()\n",
        "  elif command == 's':\n",
        "    showing_directories()\n",
        "  elif command == 'l':\n",
        "    showing_information()\n",
        "  elif command == 'ads':\n",
        "    add()\n",
        "  elif command == 'ds':\n",
        "    del_directory()\n",
        "  print()"
      ]
    },
    {
      "cell_type": "code",
      "execution_count": null,
      "metadata": {
        "colab": {
          "base_uri": "https://localhost:8080/"
        },
        "id": "4niGN3hR5vDb",
        "outputId": "77a9f265-59bb-40d6-fb6d-484afd4cdbd8"
      },
      "outputs": [
        {
          "output_type": "execute_result",
          "data": {
            "text/plain": [
              "{'1': ['2207 876234', '11-2'], '10': [], '2': ['10006'], '3': []}"
            ]
          },
          "metadata": {},
          "execution_count": 37
        }
      ],
      "source": [
        "directories"
      ]
    },
    {
      "cell_type": "code",
      "source": [
        "del directories['10']"
      ],
      "metadata": {
        "id": "9tKqO_ITcvFh"
      },
      "execution_count": null,
      "outputs": []
    },
    {
      "cell_type": "code",
      "source": [
        "directories"
      ],
      "metadata": {
        "colab": {
          "base_uri": "https://localhost:8080/"
        },
        "id": "1CAMO6zPdt0a",
        "outputId": "876454e5-c2db-4ae2-8a56-62c75cb4eed6"
      },
      "execution_count": null,
      "outputs": [
        {
          "output_type": "execute_result",
          "data": {
            "text/plain": [
              "{'1': ['2207 876234', '11-2'], '2': ['10006'], '3': []}"
            ]
          },
          "metadata": {},
          "execution_count": 39
        }
      ]
    },
    {
      "cell_type": "code",
      "source": [
        "uniq_user1 = set([213, 213, 213, 15, 213])\n",
        "uniq_user2 = set([54, 54, 119, 119, 119])\n",
        "uniq_user3 = set([213, 98, 98, 35])\n",
        "print (uniq_user1, uniq_user2, uniq_user3)"
      ],
      "metadata": {
        "id": "d0OhJY9UeKYk"
      },
      "execution_count": null,
      "outputs": []
    },
    {
      "cell_type": "code",
      "source": [
        "user_dict = {'user1':[213, 213, 213, 15, 213], 'user2':[54, 54, 119, 119, 119], \n",
        "             'user3':[213, 98, 98, 35]}\n",
        "total = []\n",
        "for v in user_dict.values():\n",
        "  total.extend(v)\n",
        "print(set(total))"
      ],
      "metadata": {
        "colab": {
          "base_uri": "https://localhost:8080/"
        },
        "id": "X8y2nGvHeKbW",
        "outputId": "93475900-d804-45a5-b5bb-5c45696cf299"
      },
      "execution_count": null,
      "outputs": [
        {
          "output_type": "stream",
          "name": "stdout",
          "text": [
            "{98, 35, 15, 213, 54, 119}\n"
          ]
        }
      ]
    },
    {
      "cell_type": "code",
      "source": [
        "d = {}"
      ],
      "metadata": {
        "id": "otE4CPGleKgV"
      },
      "execution_count": null,
      "outputs": []
    },
    {
      "cell_type": "code",
      "source": [
        "d['C'].append(15)"
      ],
      "metadata": {
        "id": "tXkTtvYVivoQ"
      },
      "execution_count": null,
      "outputs": []
    },
    {
      "cell_type": "code",
      "source": [
        "d"
      ],
      "metadata": {
        "colab": {
          "base_uri": "https://localhost:8080/"
        },
        "id": "A-Od3x_7ivq5",
        "outputId": "9bc9884b-6d2a-449a-b6d1-9b1dd7f97754"
      },
      "execution_count": null,
      "outputs": [
        {
          "output_type": "execute_result",
          "data": {
            "text/plain": [
              "{'A': 10, 'B': 20, 'C': [10, 15]}"
            ]
          },
          "metadata": {},
          "execution_count": 76
        }
      ]
    },
    {
      "cell_type": "markdown",
      "source": [
        "Дана книга рецептов с информацией о том, сколько ингредиентов нужно для приготовления блюда в \n",
        "расчете на одну порцию (пример данных представлен ниже).\n",
        "Напишите программу, которая будет запрашивать у пользователя количество порций для \n",
        "приготовления этих блюд и отображать информацию о суммарном количестве требуемых ингредиентов в указанном виде.\n",
        "Внимание! Одинаковые ингридиенты с разными размерностями нужно считать раздельно!\n",
        "Пример работы программы:"
      ],
      "metadata": {
        "id": "uXSS-8ZFOQ4Z"
      }
    },
    {
      "cell_type": "code",
      "source": [
        "cook_book_1 = {\n",
        "'салат': [\n",
        "{'ingridient_name': 'сыр', 'quantity': 50, 'measure': 'гр'},\n",
        "{'ingridient_name': 'томаты', 'quantity': 2, 'measure': 'шт'},\n",
        "{'ingridient_name': 'огурцы', 'quantity': 20, 'measure': 'гр'},\n",
        "{'ingridient_name': 'маслины', 'quantity': 10, 'measure': 'гр'},\n",
        "{'ingridient_name': 'оливковое масло', 'quantity': 20, 'measure': 'мл'},\n",
        "{'ingridient_name': 'салат', 'quantity': 10, 'measure': 'гр'},\n",
        "{'ingridient_name': 'перец', 'quantity': 20, 'measure': 'гр'}\n",
        "],\n",
        "'пицца': [\n",
        "{'ingridient_name': 'сыр', 'quantity': 20, 'measure': 'гр'},\n",
        "{'ingridient_name': 'колбаса', 'quantity': 30, 'measure': 'гр'},\n",
        "{'ingridient_name': 'бекон', 'quantity': 30, 'measure': 'гр'},\n",
        "{'ingridient_name': 'оливки', 'quantity': 10, 'measure': 'гр'},\n",
        "{'ingridient_name': 'томаты', 'quantity': 20, 'measure': 'гр'},\n",
        "{'ingridient_name': 'тесто', 'quantity': 100, 'measure': 'гр'}\n",
        "],\n",
        "'лимонад': [\n",
        "{'ingridient_name': 'лимон', 'quantity': 1, 'measure': 'шт'},\n",
        "{'ingridient_name': 'вода', 'quantity': 200, 'measure': 'мл'},\n",
        "{'ingridient_name': 'сахар', 'quantity': 10, 'measure': 'гр'},\n",
        "{'ingridient_name': 'лайм', 'quantity': 20, 'measure': 'гр'}\n",
        "]\n",
        "}"
      ],
      "metadata": {
        "id": "E5TeKY4Cld3E"
      },
      "execution_count": null,
      "outputs": []
    },
    {
      "cell_type": "code",
      "source": [
        "count = int(input('Введите количество порций:'))\n",
        "dishies_dict = {} # {(назв, размер): кол-во}\n",
        "#корт название ингр и его размер"
      ],
      "metadata": {
        "colab": {
          "base_uri": "https://localhost:8080/"
        },
        "id": "ycpX2MMCkqnb",
        "outputId": "08a3140d-b297-4b02-fc8b-19135b5d0fba"
      },
      "execution_count": null,
      "outputs": [
        {
          "name": "stdout",
          "output_type": "stream",
          "text": [
            "Введите количество порций:5\n"
          ]
        }
      ]
    },
    {
      "cell_type": "code",
      "source": [
        "for k, v in cook_book_1.items():\n",
        "  for ingridient in v:\n",
        "    dishies_dict[(ingridient['ingridient_name'], ingridient['measure'])] = ingridient['quantity']"
      ],
      "metadata": {
        "id": "mbu4c0CUkqqA"
      },
      "execution_count": null,
      "outputs": []
    },
    {
      "cell_type": "code",
      "source": [
        "dishies_dict"
      ],
      "metadata": {
        "colab": {
          "base_uri": "https://localhost:8080/"
        },
        "id": "G41cYsqunYTk",
        "outputId": "7469c45d-16d2-4d91-917b-40eb431ba4fc"
      },
      "execution_count": null,
      "outputs": [
        {
          "output_type": "execute_result",
          "data": {
            "text/plain": [
              "{('бекон', 'гр'): 30,\n",
              " ('вода', 'мл'): 200,\n",
              " ('колбаса', 'гр'): 30,\n",
              " ('лайм', 'гр'): 20,\n",
              " ('лимон', 'шт'): 1,\n",
              " ('маслины', 'гр'): 10,\n",
              " ('огурцы', 'гр'): 20,\n",
              " ('оливки', 'гр'): 10,\n",
              " ('оливковое масло', 'мл'): 20,\n",
              " ('перец', 'гр'): 20,\n",
              " ('салат', 'гр'): 10,\n",
              " ('сахар', 'гр'): 10,\n",
              " ('сыр', 'гр'): 20,\n",
              " ('тесто', 'гр'): 100,\n",
              " ('томаты', 'гр'): 20,\n",
              " ('томаты', 'шт'): 2}"
            ]
          },
          "metadata": {},
          "execution_count": 94
        }
      ]
    },
    {
      "cell_type": "code",
      "source": [
        "for k, v in dishies_dict.items():\n",
        "  print(f'{k[0].title()}: {v * count} {k[1]}')"
      ],
      "metadata": {
        "colab": {
          "base_uri": "https://localhost:8080/"
        },
        "id": "cwKbzmyckqsU",
        "outputId": "444c7a99-36d7-4989-d790-b315ff53dcca"
      },
      "execution_count": null,
      "outputs": [
        {
          "output_type": "stream",
          "name": "stdout",
          "text": [
            "Сыр: 100 гр\n",
            "Томаты: 10 шт\n",
            "Огурцы: 100 гр\n",
            "Маслины: 50 гр\n",
            "Оливковое Масло: 100 мл\n",
            "Салат: 50 гр\n",
            "Перец: 100 гр\n",
            "Колбаса: 150 гр\n",
            "Бекон: 150 гр\n",
            "Оливки: 50 гр\n",
            "Томаты: 100 гр\n",
            "Тесто: 500 гр\n",
            "Лимон: 5 шт\n",
            "Вода: 1000 мл\n",
            "Сахар: 50 гр\n",
            "Лайм: 100 гр\n"
          ]
        }
      ]
    },
    {
      "cell_type": "markdown",
      "source": [
        "# Pandas - овские темы"
      ],
      "metadata": {
        "id": "ei38VpVENnwr"
      }
    },
    {
      "cell_type": "code",
      "source": [
        "import pandas as pd\n",
        "import numpy as np\n",
        "df = pd.DataFrame(np.random.randint(0,10,size=(5, 2)), columns=['A', 'B'])\n",
        "df"
      ],
      "metadata": {
        "colab": {
          "base_uri": "https://localhost:8080/",
          "height": 206
        },
        "id": "DjED6bf6ZAOT",
        "outputId": "0519f73e-1d74-46ec-faf3-e4ed7390b548"
      },
      "execution_count": null,
      "outputs": [
        {
          "output_type": "execute_result",
          "data": {
            "text/plain": [
              "   A  B\n",
              "0  2  0\n",
              "1  3  7\n",
              "2  2  3\n",
              "3  0  0\n",
              "4  5  5"
            ],
            "text/html": [
              "\n",
              "  <div id=\"df-a083acdc-2b91-418b-8339-3010c6aff8ed\">\n",
              "    <div class=\"colab-df-container\">\n",
              "      <div>\n",
              "<style scoped>\n",
              "    .dataframe tbody tr th:only-of-type {\n",
              "        vertical-align: middle;\n",
              "    }\n",
              "\n",
              "    .dataframe tbody tr th {\n",
              "        vertical-align: top;\n",
              "    }\n",
              "\n",
              "    .dataframe thead th {\n",
              "        text-align: right;\n",
              "    }\n",
              "</style>\n",
              "<table border=\"1\" class=\"dataframe\">\n",
              "  <thead>\n",
              "    <tr style=\"text-align: right;\">\n",
              "      <th></th>\n",
              "      <th>A</th>\n",
              "      <th>B</th>\n",
              "    </tr>\n",
              "  </thead>\n",
              "  <tbody>\n",
              "    <tr>\n",
              "      <th>0</th>\n",
              "      <td>2</td>\n",
              "      <td>0</td>\n",
              "    </tr>\n",
              "    <tr>\n",
              "      <th>1</th>\n",
              "      <td>3</td>\n",
              "      <td>7</td>\n",
              "    </tr>\n",
              "    <tr>\n",
              "      <th>2</th>\n",
              "      <td>2</td>\n",
              "      <td>3</td>\n",
              "    </tr>\n",
              "    <tr>\n",
              "      <th>3</th>\n",
              "      <td>0</td>\n",
              "      <td>0</td>\n",
              "    </tr>\n",
              "    <tr>\n",
              "      <th>4</th>\n",
              "      <td>5</td>\n",
              "      <td>5</td>\n",
              "    </tr>\n",
              "  </tbody>\n",
              "</table>\n",
              "</div>\n",
              "      <button class=\"colab-df-convert\" onclick=\"convertToInteractive('df-a083acdc-2b91-418b-8339-3010c6aff8ed')\"\n",
              "              title=\"Convert this dataframe to an interactive table.\"\n",
              "              style=\"display:none;\">\n",
              "        \n",
              "  <svg xmlns=\"http://www.w3.org/2000/svg\" height=\"24px\"viewBox=\"0 0 24 24\"\n",
              "       width=\"24px\">\n",
              "    <path d=\"M0 0h24v24H0V0z\" fill=\"none\"/>\n",
              "    <path d=\"M18.56 5.44l.94 2.06.94-2.06 2.06-.94-2.06-.94-.94-2.06-.94 2.06-2.06.94zm-11 1L8.5 8.5l.94-2.06 2.06-.94-2.06-.94L8.5 2.5l-.94 2.06-2.06.94zm10 10l.94 2.06.94-2.06 2.06-.94-2.06-.94-.94-2.06-.94 2.06-2.06.94z\"/><path d=\"M17.41 7.96l-1.37-1.37c-.4-.4-.92-.59-1.43-.59-.52 0-1.04.2-1.43.59L10.3 9.45l-7.72 7.72c-.78.78-.78 2.05 0 2.83L4 21.41c.39.39.9.59 1.41.59.51 0 1.02-.2 1.41-.59l7.78-7.78 2.81-2.81c.8-.78.8-2.07 0-2.86zM5.41 20L4 18.59l7.72-7.72 1.47 1.35L5.41 20z\"/>\n",
              "  </svg>\n",
              "      </button>\n",
              "      \n",
              "  <style>\n",
              "    .colab-df-container {\n",
              "      display:flex;\n",
              "      flex-wrap:wrap;\n",
              "      gap: 12px;\n",
              "    }\n",
              "\n",
              "    .colab-df-convert {\n",
              "      background-color: #E8F0FE;\n",
              "      border: none;\n",
              "      border-radius: 50%;\n",
              "      cursor: pointer;\n",
              "      display: none;\n",
              "      fill: #1967D2;\n",
              "      height: 32px;\n",
              "      padding: 0 0 0 0;\n",
              "      width: 32px;\n",
              "    }\n",
              "\n",
              "    .colab-df-convert:hover {\n",
              "      background-color: #E2EBFA;\n",
              "      box-shadow: 0px 1px 2px rgba(60, 64, 67, 0.3), 0px 1px 3px 1px rgba(60, 64, 67, 0.15);\n",
              "      fill: #174EA6;\n",
              "    }\n",
              "\n",
              "    [theme=dark] .colab-df-convert {\n",
              "      background-color: #3B4455;\n",
              "      fill: #D2E3FC;\n",
              "    }\n",
              "\n",
              "    [theme=dark] .colab-df-convert:hover {\n",
              "      background-color: #434B5C;\n",
              "      box-shadow: 0px 1px 3px 1px rgba(0, 0, 0, 0.15);\n",
              "      filter: drop-shadow(0px 1px 2px rgba(0, 0, 0, 0.3));\n",
              "      fill: #FFFFFF;\n",
              "    }\n",
              "  </style>\n",
              "\n",
              "      <script>\n",
              "        const buttonEl =\n",
              "          document.querySelector('#df-a083acdc-2b91-418b-8339-3010c6aff8ed button.colab-df-convert');\n",
              "        buttonEl.style.display =\n",
              "          google.colab.kernel.accessAllowed ? 'block' : 'none';\n",
              "\n",
              "        async function convertToInteractive(key) {\n",
              "          const element = document.querySelector('#df-a083acdc-2b91-418b-8339-3010c6aff8ed');\n",
              "          const dataTable =\n",
              "            await google.colab.kernel.invokeFunction('convertToInteractive',\n",
              "                                                     [key], {});\n",
              "          if (!dataTable) return;\n",
              "\n",
              "          const docLinkHtml = 'Like what you see? Visit the ' +\n",
              "            '<a target=\"_blank\" href=https://colab.research.google.com/notebooks/data_table.ipynb>data table notebook</a>'\n",
              "            + ' to learn more about interactive tables.';\n",
              "          element.innerHTML = '';\n",
              "          dataTable['output_type'] = 'display_data';\n",
              "          await google.colab.output.renderOutput(dataTable, element);\n",
              "          const docLink = document.createElement('div');\n",
              "          docLink.innerHTML = docLinkHtml;\n",
              "          element.appendChild(docLink);\n",
              "        }\n",
              "      </script>\n",
              "    </div>\n",
              "  </div>\n",
              "  "
            ]
          },
          "metadata": {},
          "execution_count": 1
        }
      ]
    },
    {
      "cell_type": "code",
      "execution_count": null,
      "metadata": {
        "colab": {
          "base_uri": "https://localhost:8080/"
        },
        "id": "xQWP3x-dY6HB",
        "outputId": "3fd232c2-fda3-4b8e-edca-b941a525ac7b"
      },
      "outputs": [
        {
          "output_type": "execute_result",
          "data": {
            "text/plain": [
              "A    12\n",
              "B    15\n",
              "dtype: int64"
            ]
          },
          "metadata": {},
          "execution_count": 2
        }
      ],
      "source": [
        "df.apply(np.sum, axis=0)"
      ]
    },
    {
      "cell_type": "code",
      "source": [
        "df.apply(np.sum, axis=1)"
      ],
      "metadata": {
        "colab": {
          "base_uri": "https://localhost:8080/"
        },
        "id": "oZQR1jGzY9r_",
        "outputId": "64e9407f-c197-4e03-d3f7-8a28a7a4050e"
      },
      "execution_count": null,
      "outputs": [
        {
          "output_type": "execute_result",
          "data": {
            "text/plain": [
              "0     2\n",
              "1    10\n",
              "2     5\n",
              "3     0\n",
              "4    10\n",
              "dtype: int64"
            ]
          },
          "metadata": {},
          "execution_count": 3
        }
      ]
    },
    {
      "cell_type": "code",
      "source": [
        "x = df.apply(lambda x: list(x), axis=1)"
      ],
      "metadata": {
        "id": "KFClqu9aZKNY"
      },
      "execution_count": null,
      "outputs": []
    },
    {
      "cell_type": "code",
      "source": [
        "type(x[0]), x[0]"
      ],
      "metadata": {
        "colab": {
          "base_uri": "https://localhost:8080/"
        },
        "id": "uGzEvYAb9Czr",
        "outputId": "d56a27d5-3933-40f2-f68f-af9734d5496f"
      },
      "execution_count": null,
      "outputs": [
        {
          "output_type": "execute_result",
          "data": {
            "text/plain": [
              "(list, [2, 0])"
            ]
          },
          "metadata": {},
          "execution_count": 9
        }
      ]
    },
    {
      "cell_type": "markdown",
      "source": [
        "Дана сводка данных работы пропускного пункта аэропорта N по дням в формате \"дд-мм-гг\", содержащая информацию о пассажирах и количестве запрещенных к провозу вещей, находившихся в их сумках. Напишите функцию, принимающую номер дня и возвращающую упорядоченный список общего числа выявленных вещей в день"
      ],
      "metadata": {
        "id": "fTVZq64PcKY8"
      }
    },
    {
      "cell_type": "code",
      "source": [
        "def plot_for_time_range(time_range):\n",
        "  first_day_ban = []\n",
        "  for passengers in df.passengers.unique():\n",
        "    tmp_df = df[df['passengers'] == passengers]\n",
        "    for row in range(len(tmp_df)):\n",
        "      if tmp_df.iloc[row]['goods'] != 0:\n",
        "        first_day_ban.append((passengers, tmp_df.iloc[row][time_range]))\n",
        "        break\n",
        "  days_ban = []\n",
        "  c = 0\n",
        "  for t_l in range(1, len(df[time_range].unique()) + 1):\n",
        "    for elem in first_day_ban:\n",
        "      if elem[1] == t_l:\n",
        "        c += 1\n",
        "    days_ban.append((t_l, c))\n",
        "  print(days_ban)"
      ],
      "metadata": {
        "id": "R_GBu54ZcCwK"
      },
      "execution_count": null,
      "outputs": []
    },
    {
      "cell_type": "code",
      "source": [],
      "metadata": {
        "id": "YGsl54ELcCye"
      },
      "execution_count": null,
      "outputs": []
    },
    {
      "cell_type": "code",
      "source": [],
      "metadata": {
        "id": "bHOfYL7Ucchx"
      },
      "execution_count": null,
      "outputs": []
    },
    {
      "cell_type": "code",
      "source": [
        "df = pd.DataFrame({'a':np.random.normal(0, size=(10,)), 'b':np.random.normal(0, size=(10,))})"
      ],
      "metadata": {
        "id": "MGMQyPTnlHTx"
      },
      "execution_count": null,
      "outputs": []
    },
    {
      "cell_type": "code",
      "source": [
        "df"
      ],
      "metadata": {
        "colab": {
          "base_uri": "https://localhost:8080/",
          "height": 363
        },
        "id": "KSsaj3BXlSlh",
        "outputId": "b949fa8f-1e71-47e2-e9a8-22ad2609afe9"
      },
      "execution_count": null,
      "outputs": [
        {
          "output_type": "execute_result",
          "data": {
            "text/plain": [
              "          a         b\n",
              "0  0.641561  0.328025\n",
              "1  0.343777  0.273466\n",
              "2 -0.823244  0.312910\n",
              "3  0.466680  0.229101\n",
              "4 -0.839440  0.322177\n",
              "5  1.499154 -0.126797\n",
              "6 -2.000329 -0.017311\n",
              "7 -1.518767  0.199198\n",
              "8  0.183586  0.988227\n",
              "9  1.787047  1.065167"
            ],
            "text/html": [
              "\n",
              "  <div id=\"df-548f13ae-8ea9-4e07-b349-281f5e42c270\">\n",
              "    <div class=\"colab-df-container\">\n",
              "      <div>\n",
              "<style scoped>\n",
              "    .dataframe tbody tr th:only-of-type {\n",
              "        vertical-align: middle;\n",
              "    }\n",
              "\n",
              "    .dataframe tbody tr th {\n",
              "        vertical-align: top;\n",
              "    }\n",
              "\n",
              "    .dataframe thead th {\n",
              "        text-align: right;\n",
              "    }\n",
              "</style>\n",
              "<table border=\"1\" class=\"dataframe\">\n",
              "  <thead>\n",
              "    <tr style=\"text-align: right;\">\n",
              "      <th></th>\n",
              "      <th>a</th>\n",
              "      <th>b</th>\n",
              "    </tr>\n",
              "  </thead>\n",
              "  <tbody>\n",
              "    <tr>\n",
              "      <th>0</th>\n",
              "      <td>0.641561</td>\n",
              "      <td>0.328025</td>\n",
              "    </tr>\n",
              "    <tr>\n",
              "      <th>1</th>\n",
              "      <td>0.343777</td>\n",
              "      <td>0.273466</td>\n",
              "    </tr>\n",
              "    <tr>\n",
              "      <th>2</th>\n",
              "      <td>-0.823244</td>\n",
              "      <td>0.312910</td>\n",
              "    </tr>\n",
              "    <tr>\n",
              "      <th>3</th>\n",
              "      <td>0.466680</td>\n",
              "      <td>0.229101</td>\n",
              "    </tr>\n",
              "    <tr>\n",
              "      <th>4</th>\n",
              "      <td>-0.839440</td>\n",
              "      <td>0.322177</td>\n",
              "    </tr>\n",
              "    <tr>\n",
              "      <th>5</th>\n",
              "      <td>1.499154</td>\n",
              "      <td>-0.126797</td>\n",
              "    </tr>\n",
              "    <tr>\n",
              "      <th>6</th>\n",
              "      <td>-2.000329</td>\n",
              "      <td>-0.017311</td>\n",
              "    </tr>\n",
              "    <tr>\n",
              "      <th>7</th>\n",
              "      <td>-1.518767</td>\n",
              "      <td>0.199198</td>\n",
              "    </tr>\n",
              "    <tr>\n",
              "      <th>8</th>\n",
              "      <td>0.183586</td>\n",
              "      <td>0.988227</td>\n",
              "    </tr>\n",
              "    <tr>\n",
              "      <th>9</th>\n",
              "      <td>1.787047</td>\n",
              "      <td>1.065167</td>\n",
              "    </tr>\n",
              "  </tbody>\n",
              "</table>\n",
              "</div>\n",
              "      <button class=\"colab-df-convert\" onclick=\"convertToInteractive('df-548f13ae-8ea9-4e07-b349-281f5e42c270')\"\n",
              "              title=\"Convert this dataframe to an interactive table.\"\n",
              "              style=\"display:none;\">\n",
              "        \n",
              "  <svg xmlns=\"http://www.w3.org/2000/svg\" height=\"24px\"viewBox=\"0 0 24 24\"\n",
              "       width=\"24px\">\n",
              "    <path d=\"M0 0h24v24H0V0z\" fill=\"none\"/>\n",
              "    <path d=\"M18.56 5.44l.94 2.06.94-2.06 2.06-.94-2.06-.94-.94-2.06-.94 2.06-2.06.94zm-11 1L8.5 8.5l.94-2.06 2.06-.94-2.06-.94L8.5 2.5l-.94 2.06-2.06.94zm10 10l.94 2.06.94-2.06 2.06-.94-2.06-.94-.94-2.06-.94 2.06-2.06.94z\"/><path d=\"M17.41 7.96l-1.37-1.37c-.4-.4-.92-.59-1.43-.59-.52 0-1.04.2-1.43.59L10.3 9.45l-7.72 7.72c-.78.78-.78 2.05 0 2.83L4 21.41c.39.39.9.59 1.41.59.51 0 1.02-.2 1.41-.59l7.78-7.78 2.81-2.81c.8-.78.8-2.07 0-2.86zM5.41 20L4 18.59l7.72-7.72 1.47 1.35L5.41 20z\"/>\n",
              "  </svg>\n",
              "      </button>\n",
              "      \n",
              "  <style>\n",
              "    .colab-df-container {\n",
              "      display:flex;\n",
              "      flex-wrap:wrap;\n",
              "      gap: 12px;\n",
              "    }\n",
              "\n",
              "    .colab-df-convert {\n",
              "      background-color: #E8F0FE;\n",
              "      border: none;\n",
              "      border-radius: 50%;\n",
              "      cursor: pointer;\n",
              "      display: none;\n",
              "      fill: #1967D2;\n",
              "      height: 32px;\n",
              "      padding: 0 0 0 0;\n",
              "      width: 32px;\n",
              "    }\n",
              "\n",
              "    .colab-df-convert:hover {\n",
              "      background-color: #E2EBFA;\n",
              "      box-shadow: 0px 1px 2px rgba(60, 64, 67, 0.3), 0px 1px 3px 1px rgba(60, 64, 67, 0.15);\n",
              "      fill: #174EA6;\n",
              "    }\n",
              "\n",
              "    [theme=dark] .colab-df-convert {\n",
              "      background-color: #3B4455;\n",
              "      fill: #D2E3FC;\n",
              "    }\n",
              "\n",
              "    [theme=dark] .colab-df-convert:hover {\n",
              "      background-color: #434B5C;\n",
              "      box-shadow: 0px 1px 3px 1px rgba(0, 0, 0, 0.15);\n",
              "      filter: drop-shadow(0px 1px 2px rgba(0, 0, 0, 0.3));\n",
              "      fill: #FFFFFF;\n",
              "    }\n",
              "  </style>\n",
              "\n",
              "      <script>\n",
              "        const buttonEl =\n",
              "          document.querySelector('#df-548f13ae-8ea9-4e07-b349-281f5e42c270 button.colab-df-convert');\n",
              "        buttonEl.style.display =\n",
              "          google.colab.kernel.accessAllowed ? 'block' : 'none';\n",
              "\n",
              "        async function convertToInteractive(key) {\n",
              "          const element = document.querySelector('#df-548f13ae-8ea9-4e07-b349-281f5e42c270');\n",
              "          const dataTable =\n",
              "            await google.colab.kernel.invokeFunction('convertToInteractive',\n",
              "                                                     [key], {});\n",
              "          if (!dataTable) return;\n",
              "\n",
              "          const docLinkHtml = 'Like what you see? Visit the ' +\n",
              "            '<a target=\"_blank\" href=https://colab.research.google.com/notebooks/data_table.ipynb>data table notebook</a>'\n",
              "            + ' to learn more about interactive tables.';\n",
              "          element.innerHTML = '';\n",
              "          dataTable['output_type'] = 'display_data';\n",
              "          await google.colab.output.renderOutput(dataTable, element);\n",
              "          const docLink = document.createElement('div');\n",
              "          docLink.innerHTML = docLinkHtml;\n",
              "          element.appendChild(docLink);\n",
              "        }\n",
              "      </script>\n",
              "    </div>\n",
              "  </div>\n",
              "  "
            ]
          },
          "metadata": {},
          "execution_count": 3
        }
      ]
    }
  ]
}