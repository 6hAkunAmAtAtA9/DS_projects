{
  "nbformat": 4,
  "nbformat_minor": 0,
  "metadata": {
    "colab": {
      "provenance": []
    },
    "kernelspec": {
      "name": "python3",
      "display_name": "Python 3"
    },
    "language_info": {
      "name": "python"
    }
  },
  "cells": [
    {
      "cell_type": "markdown",
      "source": [
        "# Инициализация библиотек"
      ],
      "metadata": {
        "id": "8Ma0W-jGgySK"
      }
    },
    {
      "cell_type": "code",
      "source": [
        "! gdown 13zFsjH4BfggyQuQjL2F4a0EWpIPClU50 -q\n",
        "! pip install https://github.com/scikit-learn-contrib/scikit-learn-extra/archive/master.zip -q\n",
        "! pip install xlwt -q\n",
        "! pip install pyclustering -q\n",
        "! pip install kmodes"
      ],
      "metadata": {
        "colab": {
          "base_uri": "https://localhost:8080/"
        },
        "id": "y--N7Gq6lZMg",
        "outputId": "697ede45-c46a-4d57-8d27-332cea45f3fc"
      },
      "execution_count": 1,
      "outputs": [
        {
          "output_type": "stream",
          "name": "stdout",
          "text": [
            "\u001b[2K     \u001b[32m/\u001b[0m \u001b[32m740.1 kB\u001b[0m \u001b[31m5.8 MB/s\u001b[0m \u001b[33m0:00:00\u001b[0m\n",
            "\u001b[?25h  Installing build dependencies ... \u001b[?25l\u001b[?25hdone\n",
            "  Getting requirements to build wheel ... \u001b[?25l\u001b[?25hdone\n",
            "  Preparing metadata (pyproject.toml) ... \u001b[?25l\u001b[?25hdone\n",
            "  Building wheel for scikit-learn-extra (pyproject.toml) ... \u001b[?25l\u001b[?25hdone\n",
            "\u001b[2K     \u001b[90m━━━━━━━━━━━━━━━━━━━━━━━━━━━━━━━━━━━━━━━\u001b[0m \u001b[32m100.0/100.0 kB\u001b[0m \u001b[31m4.3 MB/s\u001b[0m eta \u001b[36m0:00:00\u001b[0m\n",
            "\u001b[2K     \u001b[90m━━━━━━━━━━━━━━━━━━━━━━━━━━━━━━━━━━━━━━━━\u001b[0m \u001b[32m2.6/2.6 MB\u001b[0m \u001b[31m30.8 MB/s\u001b[0m eta \u001b[36m0:00:00\u001b[0m\n",
            "\u001b[?25h  Preparing metadata (setup.py) ... \u001b[?25l\u001b[?25hdone\n",
            "  Building wheel for pyclustering (setup.py) ... \u001b[?25l\u001b[?25hdone\n",
            "Looking in indexes: https://pypi.org/simple, https://us-python.pkg.dev/colab-wheels/public/simple/\n",
            "Collecting kmodes\n",
            "  Downloading kmodes-0.12.2-py2.py3-none-any.whl (20 kB)\n",
            "Requirement already satisfied: scikit-learn>=0.22.0 in /usr/local/lib/python3.9/dist-packages (from kmodes) (1.2.2)\n",
            "Requirement already satisfied: numpy>=1.10.4 in /usr/local/lib/python3.9/dist-packages (from kmodes) (1.22.4)\n",
            "Requirement already satisfied: joblib>=0.11 in /usr/local/lib/python3.9/dist-packages (from kmodes) (1.2.0)\n",
            "Requirement already satisfied: scipy>=0.13.3 in /usr/local/lib/python3.9/dist-packages (from kmodes) (1.10.1)\n",
            "Requirement already satisfied: threadpoolctl>=2.0.0 in /usr/local/lib/python3.9/dist-packages (from scikit-learn>=0.22.0->kmodes) (3.1.0)\n",
            "Installing collected packages: kmodes\n",
            "Successfully installed kmodes-0.12.2\n"
          ]
        }
      ]
    },
    {
      "cell_type": "code",
      "execution_count": 2,
      "metadata": {
        "id": "PzjJD3Rfjh8_"
      },
      "outputs": [],
      "source": [
        "import pandas as pd\n",
        "import numpy as np\n",
        "import seaborn as sns\n",
        "import xlwt\n",
        "\n",
        "from sklearn.preprocessing import OrdinalEncoder\n",
        "from sklearn.datasets import make_blobs\n",
        "from sklearn.metrics.pairwise import pairwise_distances\n",
        "from sklearn.model_selection import train_test_split\n",
        "from kmodes.kmodes import KModes\n",
        "\n",
        "\n",
        "import numpy as np\n",
        "from sklearn.metrics import pairwise_distances\n",
        "from sklearn.metrics.cluster import contingency_matrix\n",
        "\n",
        "from sklearn.cluster import KMeans\n",
        "from sklearn_extra.cluster import KMedoids\n",
        "from sklearn.metrics import davies_bouldin_score\n",
        "from sklearn.metrics import precision_score\n",
        "from sklearn.metrics import silhouette_score\n",
        "from sklearn.metrics import calinski_harabasz_score\n",
        "from sklearn.metrics import adjusted_rand_score\n",
        "from sklearn.metrics import v_measure_score\n",
        "\n",
        "\n",
        "from sklearn.cluster import Birch\n",
        "from sklearn.cluster import AgglomerativeClustering"
      ]
    },
    {
      "cell_type": "code",
      "source": [
        "from pyclustering.cluster.rock import rock as rock_cluster\n",
        "from pyclustering.utils import read_sample\n",
        "from pyclustering.samples.definitions import SIMPLE_SAMPLES"
      ],
      "metadata": {
        "id": "aXXuzcOjq8aJ"
      },
      "execution_count": 3,
      "outputs": []
    },
    {
      "cell_type": "markdown",
      "source": [
        "# Фунции для обработки датасета и подсчета метрик"
      ],
      "metadata": {
        "id": "WbyYY1ZCg_xO"
      }
    },
    {
      "cell_type": "code",
      "source": [
        "# Функция для рассчета инерции\n",
        "def inertia(X, y, n_clusters):\n",
        "  inertia = 0\n",
        "  y = y.reshape(-1, 1)\n",
        "  for i, label in enumerate(range(n_clusters)):\n",
        "      cluster_center = X[(y == i)[:, 0]].mean(axis=0)\n",
        "      cluster_inertia = ((X[(y == i)[:, 0]] - cluster_center) ** 2).sum()\n",
        "      inertia += cluster_inertia\n",
        "\n",
        "  return inertia\n",
        "\n",
        "def calculate_cdbw(X, labels, n_clusters):\n",
        "    labels = labels.reshape(-1, 1)\n",
        "    k = len(np.unique(labels))\n",
        "    centroids = np.zeros((n_clusters, X.shape[1]))\n",
        "\n",
        "    # считаем межклассовое расстояние\n",
        "    for i in range(n_clusters):\n",
        "        cluster_indices = np.where(labels == i)[0]\n",
        "        centroids[i,:] = np.mean(X[cluster_indices,:], axis=0)\n",
        "\n",
        "    intra_dists = [np.mean(pairwise_distances(X[(labels == i)[:, 0]], [centroids[i]], metric='euclidean')) for i in range(k)]\n",
        "    inter_dists = [np.min(pairwise_distances(centroids[np.arange(k) != i], [centroids[i]], metric='euclidean')) for i in range(k)]\n",
        "    return np.mean(intra_dists) / np.mean(inter_dists)\n",
        "\n",
        "\n",
        "\n",
        "# Функция для рассчета метрик и вывода их на экран\n",
        "def showing_metrics(df_enc_cutted, labels, true_labels, n_clusters):\n",
        "  n_clusters = n_clusters\n",
        "  distances = np.zeros((n_clusters,))\n",
        "\n",
        "  for i in range(n_clusters):\n",
        "      cluster_indices = np.where(labels == i)[0]\n",
        "      cluster_distances = pairwise_distances(df_enc_cutted[cluster_indices,:], metric='euclidean')\n",
        "      distances[i] = np.mean(cluster_distances)\n",
        "      \n",
        "  within_cluster_distance = np.mean(distances)\n",
        "  print('Within cluster distance:', within_cluster_distance)\n",
        "\n",
        "  n_clusters = n_clusters\n",
        "  centroids = np.zeros((n_clusters, df_enc_cutted.shape[1]))\n",
        "\n",
        "  # считаем межклассовое расстояние\n",
        "  for i in range(n_clusters):\n",
        "      cluster_indices = np.where(labels == i)[0]\n",
        "      centroids[i,:] = np.mean(df_enc_cutted[cluster_indices,:], axis=0)\n",
        "\n",
        "  db_index = davies_bouldin_score(df_enc_cutted, labels)\n",
        "\n",
        "  num_clusters = n_clusters\n",
        "  compactness = 0\n",
        "  for i in range(num_clusters):\n",
        "    cluster_indices = (labels == i)\n",
        "    if sum(cluster_indices) == 0:\n",
        "        continue\n",
        "    cluster_center = df_enc_cutted[cluster_indices].mean(axis=0)\n",
        "    distances = pairwise_distances(df_enc_cutted[cluster_indices], cluster_center.reshape(1, -1))\n",
        "    compactness += np.sum(distances)\n",
        "  \n",
        "  cs_score = calinski_harabasz_score(df_enc_cutted, labels)\n",
        "\n",
        "\n",
        "  \n",
        "  between_cluster_distance = pairwise_distances(centroids, metric='euclidean').mean()\n",
        "  print('Between cluster distance:', between_cluster_distance)\n",
        "  \n",
        "  precision = precision_score(true_labels, labels, average='binary')\n",
        "  print(\"Precision: \", precision)\n",
        "\n",
        "  print('Индекс плотности (CDbw):', calculate_cdbw(df_enc_cutted, labels, n_clusters))\n",
        "  silhouette_avg = silhouette_score(df_enc_cutted, labels)\n",
        "  print(\"Silhouette Score: \", silhouette_avg)\n",
        "\n",
        "  print('Сalinski_harabasz_score:', cs_score)\n",
        "\n",
        "  print('DB index:', db_index)\n",
        "  \n",
        "  print('Индекс компактности', compactness)\n",
        "\n",
        "  print('Score function: ', ((inertia(df_enc_cutted, labels, 1)\n",
        "   - inertia(df_enc_cutted, labels, 2)) / inertia(df_enc_cutted, labels, 1)))\n",
        "  print('RAND index: ', adjusted_rand_score(true_labels.ravel(), labels))\n",
        "  print('V measure : ', v_measure_score(true_labels.ravel(), labels))\n",
        "\n",
        "  print('*' * 30)"
      ],
      "metadata": {
        "id": "grr7eirdzIeC"
      },
      "execution_count": 4,
      "outputs": []
    },
    {
      "cell_type": "code",
      "source": [
        "# Функция для прогона алгоритмов с датасетом и вывода метрик на экран\n",
        "def main_alg(df, true_labels, n_clusses):\n",
        "  np.random.seed(123)\n",
        "\n",
        "  # Алгоритм Kmedoids\n",
        "  kmedoids = KMedoids(n_clusters=n_clusses)\n",
        "  kmedoids.fit(df)\n",
        "  kmedoids_labels = kmedoids.predict(df)\n",
        "  print('Для алгоритма kmedoids:')\n",
        "  showing_metrics(df, kmedoids_labels, true_labels, n_clusses)\n",
        "\n",
        "  # Алгоритм Birch\n",
        "  brc = Birch(n_clusters=n_clusses)\n",
        "  brc.fit(df)\n",
        "  birch_labels = brc.predict(df)\n",
        "  print('Для алгоритма Birch:')\n",
        "  showing_metrics(df, birch_labels, true_labels, n_clusses)\n",
        "\n",
        "  # Алгоритм KMeans\n",
        "  kmeans = KMeans(n_clusters=n_clusses, random_state=0, n_init=\"auto\").fit(df)\n",
        "  kmeans_labels = kmeans.labels_\n",
        "  print('Для алгоритма KMeans:')\n",
        "  showing_metrics(df, kmeans_labels, true_labels, n_clusses)\n",
        "\n",
        "  # Алгоритм AgglomerativeClustering \n",
        "  agg_clustering = AgglomerativeClustering(n_clusters=n_clusses)\n",
        "  agl_labels = agg_clustering.fit_predict(df)\n",
        "  print('Для алгоритма AgglomerativeClustering:')\n",
        "  showing_metrics(df, agl_labels, true_labels, n_clusses)\n",
        "\n",
        "  # Алгоритм KModes\n",
        "  km = KModes(n_clusters=2, init='Huang', n_init=5, verbose=0)\n",
        "  kmodes_labels = km.fit_predict(df)\n",
        "  print('Для алгоритма KModes:')\n",
        "  showing_metrics(df, kmodes_labels, true_labels, n_clusses)\n",
        "\n",
        "  return kmedoids_labels.reshape(-1, 1), agl_labels.reshape(-1, 1), \\\n",
        "         kmeans_labels.reshape(-1, 1), birch_labels.reshape(-1, 1), \\\n",
        "         kmodes_labels.reshape(-1, 1)\n"
      ],
      "metadata": {
        "id": "MFULgpebSh9O"
      },
      "execution_count": 5,
      "outputs": []
    },
    {
      "cell_type": "markdown",
      "source": [
        "# Для набора данных с грибами грибов"
      ],
      "metadata": {
        "id": "D2j1VMs5hHm3"
      }
    },
    {
      "cell_type": "code",
      "source": [
        "df = pd.read_excel('/content/Грибы.xls')"
      ],
      "metadata": {
        "id": "7PG9lie0kAa0"
      },
      "execution_count": 6,
      "outputs": []
    },
    {
      "cell_type": "code",
      "source": [
        "enc = OrdinalEncoder()\n",
        "enc.fit(df['Класс'].values.reshape(-1, 1))\n",
        "# съедобный - 0, ядовитый - 1\n",
        "y = enc.transform(df['Класс'].values.reshape(-1, 1))"
      ],
      "metadata": {
        "id": "92sc_v_hlwgD"
      },
      "execution_count": 7,
      "outputs": []
    },
    {
      "cell_type": "code",
      "source": [
        "df = df.drop(['Класс'], axis=1)"
      ],
      "metadata": {
        "id": "hjJwSn5kfhUl"
      },
      "execution_count": 8,
      "outputs": []
    },
    {
      "cell_type": "code",
      "source": [
        "enc = OrdinalEncoder()\n",
        "enc.fit(df)\n",
        "X = enc.transform(df)"
      ],
      "metadata": {
        "id": "P4AVb2ZnfTP7"
      },
      "execution_count": 9,
      "outputs": []
    },
    {
      "cell_type": "code",
      "source": [
        "# Необязательно инвентирование истинных y\n",
        "y = [1 if x == 0 else 0 for x in y]\n",
        "y = np.array(y).reshape(-1, 1)"
      ],
      "metadata": {
        "id": "ZrEnZfCvpWm8"
      },
      "execution_count": 10,
      "outputs": []
    },
    {
      "cell_type": "code",
      "source": [
        "kmedoids_labels, agl_labels, kmeans_labels, birch_labels, kmodes_labels = main_alg(X, y, 2)"
      ],
      "metadata": {
        "id": "wpgW4xR0nMCy",
        "colab": {
          "base_uri": "https://localhost:8080/"
        },
        "outputId": "f5341c6d-2ebf-4f12-87af-f4d069af8a9b"
      },
      "execution_count": 11,
      "outputs": [
        {
          "output_type": "stream",
          "name": "stdout",
          "text": [
            "Для алгоритма kmedoids:\n",
            "Within cluster distance: 11.045442427901252\n",
            "Between cluster distance: 1.4939965982280405\n",
            "Precision:  0.5545529122231337\n",
            "Индекс плотности (CDbw): 2.6695088848450093\n",
            "Silhouette Score:  0.03719110147570848\n",
            "Сalinski_harabasz_score: 267.83216331737634\n",
            "DB index: 5.339017769690001\n",
            "Индекс компактности 64766.37743475559\n",
            "Score function:  -1.492710539895362\n",
            "RAND index:  0.008861761253433515\n",
            "V measure :  0.005896863809761612\n",
            "******************************\n",
            "Для алгоритма Birch:\n",
            "Within cluster distance: 9.935505252629577\n",
            "Between cluster distance: 3.7680472011339368\n",
            "Precision:  0.4859392575928009\n",
            "Индекс плотности (CDbw): 0.9499904232213522\n",
            "Silhouette Score:  0.19516153940808273\n",
            "Сalinski_harabasz_score: 2136.698866477588\n",
            "DB index: 1.899980846442704\n",
            "Индекс компактности 58365.122482147985\n",
            "Score function:  -0.6965361979686737\n",
            "RAND index:  0.0035270814338467017\n",
            "V measure :  0.0023223168105042905\n",
            "******************************\n",
            "Для алгоритма KMeans:\n",
            "Within cluster distance: 9.724294602486767\n",
            "Between cluster distance: 4.0947751620592925\n",
            "Precision:  0.57224043715847\n",
            "Индекс плотности (CDbw): 0.8539278451720402\n",
            "Silhouette Score:  0.22140425255865331\n",
            "Сalinski_harabasz_score: 2647.882464757333\n",
            "DB index: 1.70785569034408\n",
            "Индекс компактности 57150.90665718404\n",
            "Score function:  -1.555126981183176\n",
            "RAND index:  0.015935058111827445\n",
            "V measure :  0.011059175030561955\n",
            "******************************\n",
            "Для алгоритма AgglomerativeClustering:\n",
            "Within cluster distance: 9.891312055970001\n",
            "Between cluster distance: 3.831684720212772\n",
            "Precision:  0.5514834205933682\n",
            "Индекс плотности (CDbw): 0.9298846701923742\n",
            "Silhouette Score:  0.2009777144834917\n",
            "Сalinski_harabasz_score: 2226.582510650252\n",
            "DB index: 1.8597693403847484\n",
            "Индекс компактности 58120.69683989199\n",
            "Score function:  -1.4604567843316336\n",
            "RAND index:  0.00629967423640606\n",
            "V measure :  0.004231153054148779\n",
            "******************************\n",
            "Для алгоритма KModes:\n",
            "Within cluster distance: 10.808552985421088\n",
            "Between cluster distance: 2.338991237473927\n",
            "Precision:  0.8348178137651822\n",
            "Индекс плотности (CDbw): 1.6854539947625495\n",
            "Silhouette Score:  0.10926007102252934\n",
            "Сalinski_harabasz_score: 684.3592084926848\n",
            "DB index: 3.370907989525094\n",
            "Индекс компактности 63136.339154251415\n",
            "Score function:  -1.1929384084194108\n",
            "RAND index:  0.6058899319243933\n",
            "V measure :  0.5465020862520207\n",
            "******************************\n"
          ]
        }
      ]
    },
    {
      "cell_type": "code",
      "source": [
        "columns = list(df.columns)\n",
        "columns = columns + ['Истинные метки', 'k-medoids', 'Agglomerative', 'kmeans_labels', 'Birch', 'KModes']"
      ],
      "metadata": {
        "id": "yAy-Dj2EnhwX"
      },
      "execution_count": 12,
      "outputs": []
    },
    {
      "cell_type": "code",
      "source": [
        "total = pd.DataFrame(np.concatenate((df.values, y, kmedoids_labels, agl_labels, kmeans_labels, birch_labels, kmodes_labels), axis=1), columns=columns)"
      ],
      "metadata": {
        "id": "4hlbDHDrmzoV"
      },
      "execution_count": 13,
      "outputs": []
    },
    {
      "cell_type": "code",
      "source": [
        "total.to_excel('total_data_mashtoms.xls')"
      ],
      "metadata": {
        "id": "ynZkV3ujk81K",
        "colab": {
          "base_uri": "https://localhost:8080/"
        },
        "outputId": "bde32871-c670-4a09-8f2f-89f2e259fa16"
      },
      "execution_count": 14,
      "outputs": [
        {
          "output_type": "stream",
          "name": "stderr",
          "text": [
            "<ipython-input-14-e4a78b5f38f3>:1: FutureWarning: As the xlwt package is no longer maintained, the xlwt engine will be removed in a future version of pandas. This is the only engine in pandas that supports writing in the xls format. Install openpyxl and write to an xlsx file instead. You can set the option io.excel.xls.writer to 'xlwt' to silence this warning. While this option is deprecated and will also raise a warning, it can be globally set and the warning suppressed.\n",
            "  total.to_excel('total_data_mashtoms.xls')\n"
          ]
        }
      ]
    },
    {
      "cell_type": "code",
      "source": [
        "# Добавление очень медленного алгоритма, который нужен по условию задачи\n",
        "from pyclustering.cluster.clarans import clarans\n",
        "# Создание экземпляра класса CLARANS\n",
        "clarans_instance = clarans(X, number_clusters=2, numlocal=2, maxneighbor=3)\n",
        "# Запуск алгоритма\n",
        "clarans_instance.process()\n",
        "# Получение результирующих кластеров\n",
        "clusters = clarans_instance.get_clusters()\n",
        "labels = np.array([1 * (x in clusters[0]) for x in range(len(X))])"
      ],
      "metadata": {
        "colab": {
          "base_uri": "https://localhost:8080/"
        },
        "id": "9hj_oaSGGC0H",
        "outputId": "88dceccf-014d-4f0f-a8df-bf5139ac3ba9"
      },
      "execution_count": 27,
      "outputs": [
        {
          "output_type": "execute_result",
          "data": {
            "text/plain": [
              "<pyclustering.cluster.clarans.clarans at 0x7f194d306220>"
            ]
          },
          "metadata": {},
          "execution_count": 27
        }
      ]
    },
    {
      "cell_type": "code",
      "source": [
        "showing_metrics(X, labels, y, 2)"
      ],
      "metadata": {
        "id": "FDwhG6euNUCt"
      },
      "execution_count": 30,
      "outputs": []
    }
  ]
}