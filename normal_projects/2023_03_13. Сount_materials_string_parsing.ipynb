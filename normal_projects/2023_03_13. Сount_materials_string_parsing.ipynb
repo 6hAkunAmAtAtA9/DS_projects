{
 "cells": [
  {
   "cell_type": "code",
   "execution_count": 204,
   "id": "df2931a8",
   "metadata": {},
   "outputs": [],
   "source": [
    "import pandas as pd\n",
    "import seaborn as sns\n",
    "import matplotlib.pyplot as plt"
   ]
  },
  {
   "cell_type": "code",
   "execution_count": 106,
   "id": "865dadab",
   "metadata": {},
   "outputs": [],
   "source": [
    "df = pd.read_csv(r'C:\\Users\\User\\Desktop\\WORK\\my_datas\\13_03_23_materials.csv')"
   ]
  },
  {
   "cell_type": "code",
   "execution_count": 234,
   "id": "9c5917b8",
   "metadata": {},
   "outputs": [
    {
     "data": {
      "text/html": [
       "<div>\n",
       "<style scoped>\n",
       "    .dataframe tbody tr th:only-of-type {\n",
       "        vertical-align: middle;\n",
       "    }\n",
       "\n",
       "    .dataframe tbody tr th {\n",
       "        vertical-align: top;\n",
       "    }\n",
       "\n",
       "    .dataframe thead th {\n",
       "        text-align: right;\n",
       "    }\n",
       "</style>\n",
       "<table border=\"1\" class=\"dataframe\">\n",
       "  <thead>\n",
       "    <tr style=\"text-align: right;\">\n",
       "      <th></th>\n",
       "      <th>product_id</th>\n",
       "      <th>value</th>\n",
       "    </tr>\n",
       "  </thead>\n",
       "  <tbody>\n",
       "    <tr>\n",
       "      <th>0</th>\n",
       "      <td>4590</td>\n",
       "      <td>70% шерсть, 30% полиэстер</td>\n",
       "    </tr>\n",
       "    <tr>\n",
       "      <th>1</th>\n",
       "      <td>768</td>\n",
       "      <td>77% полиамид, 23% эластан</td>\n",
       "    </tr>\n",
       "    <tr>\n",
       "      <th>2</th>\n",
       "      <td>769</td>\n",
       "      <td>77% полиамид, 15% эластан, 8% хлопок</td>\n",
       "    </tr>\n",
       "  </tbody>\n",
       "</table>\n",
       "</div>"
      ],
      "text/plain": [
       "   product_id                                 value\n",
       "0        4590             70% шерсть, 30% полиэстер\n",
       "1         768             77% полиамид, 23% эластан\n",
       "2         769  77% полиамид, 15% эластан, 8% хлопок"
      ]
     },
     "execution_count": 234,
     "metadata": {},
     "output_type": "execute_result"
    }
   ],
   "source": [
    "df.head(3)"
   ]
  },
  {
   "cell_type": "markdown",
   "id": "f37e599f",
   "metadata": {},
   "source": [
    "### Materials to dict"
   ]
  },
  {
   "cell_type": "code",
   "execution_count": 109,
   "id": "ac7ae437",
   "metadata": {},
   "outputs": [],
   "source": [
    "materials = {}"
   ]
  },
  {
   "cell_type": "code",
   "execution_count": 110,
   "id": "aec636df",
   "metadata": {},
   "outputs": [],
   "source": [
    "words_to_change = ['Подкладка:', 'Верх:']\n",
    "\n",
    "for i, value in enumerate(df.values):\n",
    "    for word  in words_to_change:\n",
    "        value[1] = value[1].replace(word, '')\n",
    "        \n",
    "    if value[1] == 'Не задано':\n",
    "        continue\n",
    "    mats = []\n",
    "    for mat in value[1].split(','):\n",
    "        if '%' in mat:\n",
    "            mats.append([mat.split('%')[1].strip(), mat.split('%')[0]])\n",
    "        else:\n",
    "            mats.append([mat, 'unk'])\n",
    "    materials[value[0]] = mats"
   ]
  },
  {
   "cell_type": "code",
   "execution_count": 118,
   "id": "2b2ab8c6",
   "metadata": {},
   "outputs": [],
   "source": [
    "materials_sep_cols = {}"
   ]
  },
  {
   "cell_type": "code",
   "execution_count": 141,
   "id": "9200d9f0",
   "metadata": {},
   "outputs": [],
   "source": [
    "words_to_change = ['Подкладка:', 'Верх:']\n",
    "\n",
    "for i, value in enumerate(df.values):\n",
    "    for word  in words_to_change:\n",
    "        value[1] = value[1].replace(word, '')\n",
    "        \n",
    "    if value[1] == 'Не задано':\n",
    "        continue\n",
    "    mats = []\n",
    "    for mat in value[1].split(','):\n",
    "        if '%' in mat:\n",
    "            mats.extend([mat.split('%')[1].strip(), mat.split('%')[0]])\n",
    "        elif ';' in mat:\n",
    "            mats.extend([mat.split(';')[1].strip(), mat.split(';')[0]])\n",
    "        else:\n",
    "            mats.extend([mat, 'unk'])\n",
    "    materials_sep_cols[value[0]] = mats"
   ]
  },
  {
   "cell_type": "code",
   "execution_count": 243,
   "id": "abc156ba",
   "metadata": {},
   "outputs": [
    {
     "data": {
      "text/plain": [
       "[(4590, ['шерсть', '70', 'полиэстер', ' 30']),\n",
       " (768, ['полиамид', '77', 'эластан', ' 23']),\n",
       " (769, ['полиамид', '77', 'эластан', ' 15', 'хлопок', ' 8']),\n",
       " (831, ['хлопок', '97', 'эластан', ' 3']),\n",
       " (4765, ['шерсть', '50', 'акрил', ' 50'])]"
      ]
     },
     "execution_count": 243,
     "metadata": {},
     "output_type": "execute_result"
    }
   ],
   "source": [
    "list(materials_sep_cols.items())[:5]"
   ]
  },
  {
   "cell_type": "markdown",
   "id": "c24942c4",
   "metadata": {},
   "source": [
    "### Outs"
   ]
  },
  {
   "cell_type": "code",
   "execution_count": 134,
   "id": "1a48edf0",
   "metadata": {},
   "outputs": [],
   "source": [
    "df_tatal = pd.DataFrame.from_dict(materials_sep_cols, orient='index')"
   ]
  },
  {
   "cell_type": "code",
   "execution_count": 239,
   "id": "adcde95e",
   "metadata": {},
   "outputs": [
    {
     "data": {
      "text/html": [
       "<div>\n",
       "<style scoped>\n",
       "    .dataframe tbody tr th:only-of-type {\n",
       "        vertical-align: middle;\n",
       "    }\n",
       "\n",
       "    .dataframe tbody tr th {\n",
       "        vertical-align: top;\n",
       "    }\n",
       "\n",
       "    .dataframe thead th {\n",
       "        text-align: right;\n",
       "    }\n",
       "</style>\n",
       "<table border=\"1\" class=\"dataframe\">\n",
       "  <thead>\n",
       "    <tr style=\"text-align: right;\">\n",
       "      <th></th>\n",
       "      <th>0</th>\n",
       "      <th>1</th>\n",
       "      <th>2</th>\n",
       "      <th>3</th>\n",
       "      <th>4</th>\n",
       "      <th>5</th>\n",
       "      <th>6</th>\n",
       "      <th>7</th>\n",
       "      <th>8</th>\n",
       "      <th>9</th>\n",
       "      <th>...</th>\n",
       "      <th>12</th>\n",
       "      <th>13</th>\n",
       "      <th>14</th>\n",
       "      <th>15</th>\n",
       "      <th>16</th>\n",
       "      <th>17</th>\n",
       "      <th>18</th>\n",
       "      <th>19</th>\n",
       "      <th>20</th>\n",
       "      <th>21</th>\n",
       "    </tr>\n",
       "  </thead>\n",
       "  <tbody>\n",
       "    <tr>\n",
       "      <th>4590</th>\n",
       "      <td>шерсть</td>\n",
       "      <td>70</td>\n",
       "      <td>полиэстер</td>\n",
       "      <td>30</td>\n",
       "      <td>None</td>\n",
       "      <td>None</td>\n",
       "      <td>None</td>\n",
       "      <td>None</td>\n",
       "      <td>None</td>\n",
       "      <td>None</td>\n",
       "      <td>...</td>\n",
       "      <td>None</td>\n",
       "      <td>None</td>\n",
       "      <td>None</td>\n",
       "      <td>None</td>\n",
       "      <td>None</td>\n",
       "      <td>None</td>\n",
       "      <td>None</td>\n",
       "      <td>None</td>\n",
       "      <td>None</td>\n",
       "      <td>None</td>\n",
       "    </tr>\n",
       "    <tr>\n",
       "      <th>768</th>\n",
       "      <td>полиамид</td>\n",
       "      <td>77</td>\n",
       "      <td>эластан</td>\n",
       "      <td>23</td>\n",
       "      <td>None</td>\n",
       "      <td>None</td>\n",
       "      <td>None</td>\n",
       "      <td>None</td>\n",
       "      <td>None</td>\n",
       "      <td>None</td>\n",
       "      <td>...</td>\n",
       "      <td>None</td>\n",
       "      <td>None</td>\n",
       "      <td>None</td>\n",
       "      <td>None</td>\n",
       "      <td>None</td>\n",
       "      <td>None</td>\n",
       "      <td>None</td>\n",
       "      <td>None</td>\n",
       "      <td>None</td>\n",
       "      <td>None</td>\n",
       "    </tr>\n",
       "    <tr>\n",
       "      <th>769</th>\n",
       "      <td>полиамид</td>\n",
       "      <td>77</td>\n",
       "      <td>эластан</td>\n",
       "      <td>15</td>\n",
       "      <td>хлопок</td>\n",
       "      <td>8</td>\n",
       "      <td>None</td>\n",
       "      <td>None</td>\n",
       "      <td>None</td>\n",
       "      <td>None</td>\n",
       "      <td>...</td>\n",
       "      <td>None</td>\n",
       "      <td>None</td>\n",
       "      <td>None</td>\n",
       "      <td>None</td>\n",
       "      <td>None</td>\n",
       "      <td>None</td>\n",
       "      <td>None</td>\n",
       "      <td>None</td>\n",
       "      <td>None</td>\n",
       "      <td>None</td>\n",
       "    </tr>\n",
       "  </tbody>\n",
       "</table>\n",
       "<p>3 rows × 22 columns</p>\n",
       "</div>"
      ],
      "text/plain": [
       "            0   1          2    3       4     5     6     7     8     9   ...  \\\n",
       "4590    шерсть  70  полиэстер   30    None  None  None  None  None  None  ...   \n",
       "768   полиамид  77    эластан   23    None  None  None  None  None  None  ...   \n",
       "769   полиамид  77    эластан   15  хлопок     8  None  None  None  None  ...   \n",
       "\n",
       "        12    13    14    15    16    17    18    19    20    21  \n",
       "4590  None  None  None  None  None  None  None  None  None  None  \n",
       "768   None  None  None  None  None  None  None  None  None  None  \n",
       "769   None  None  None  None  None  None  None  None  None  None  \n",
       "\n",
       "[3 rows x 22 columns]"
      ]
     },
     "execution_count": 239,
     "metadata": {},
     "output_type": "execute_result"
    }
   ],
   "source": [
    "df_tatal.head(3)"
   ]
  },
  {
   "cell_type": "code",
   "execution_count": 137,
   "id": "0c45939f",
   "metadata": {},
   "outputs": [],
   "source": [
    "df_tatal.to_excel('Первая_по_материалам.xlsx')"
   ]
  },
  {
   "cell_type": "markdown",
   "id": "52baed2c",
   "metadata": {},
   "source": [
    "### Top materials"
   ]
  },
  {
   "cell_type": "code",
   "execution_count": 215,
   "id": "ad1c479e",
   "metadata": {},
   "outputs": [],
   "source": [
    "mat_amount = {}"
   ]
  },
  {
   "cell_type": "code",
   "execution_count": 216,
   "id": "9739fdf5",
   "metadata": {},
   "outputs": [],
   "source": [
    "for value in materials_sep_cols.values():\n",
    "    for elem in value:\n",
    "        if elem.strip().isalpha():\n",
    "            if elem.strip().title() in mat_amount:\n",
    "                mat_amount[elem.strip().title()] += 1\n",
    "            else:\n",
    "                mat_amount[elem.strip().title()] = 1"
   ]
  },
  {
   "cell_type": "code",
   "execution_count": 217,
   "id": "d061648a",
   "metadata": {},
   "outputs": [],
   "source": [
    "del mat_amount['Unk']"
   ]
  },
  {
   "cell_type": "code",
   "execution_count": 218,
   "id": "2fe3c814",
   "metadata": {},
   "outputs": [],
   "source": [
    "top_materials = pd.DataFrame.from_dict(mat_amount, orient='index', columns=['amount'])"
   ]
  },
  {
   "cell_type": "code",
   "execution_count": 219,
   "id": "dabad348",
   "metadata": {},
   "outputs": [],
   "source": [
    "top_materials = top_materials.reset_index(drop=False, inplace=False)\\\n",
    "    .rename(columns={'index': 'material'})\\\n",
    "    .sort_values(by='amount', ascending=False)"
   ]
  },
  {
   "cell_type": "code",
   "execution_count": 233,
   "id": "fc6345c5",
   "metadata": {},
   "outputs": [
    {
     "data": {
      "image/png": "[encoded data removed]",
      "text/plain": [
       "<Figure size 2000x1000 with 1 Axes>"
      ]
     },
     "metadata": {},
     "output_type": "display_data"
    }
   ],
   "source": [
    "plt.figure(figsize=(20, 10))\n",
    "sns.barplot(x='material', y='amount', data=top_materials[:10], palette='Blues_d')\n",
    "plt.xticks(rotation=45)\n",
    "plt.tick_params(axis='x', labelsize=16)\n",
    "plt.title('Топ материалов', fontsize=16)\n",
    "plt.xlabel('Материал', fontsize=14)\n",
    "plt.ylabel('Количество')\n",
    "plt.savefig('top_materials_13_03.jpeg')\n",
    "plt.show()"
   ]
  },
  {
   "cell_type": "code",
   "execution_count": 232,
   "id": "5c2b6ac2",
   "metadata": {},
   "outputs": [
    {
     "data": {
      "text/plain": [
       "<Figure size 640x480 with 0 Axes>"
      ]
     },
     "metadata": {},
     "output_type": "display_data"
    }
   ],
   "source": [
    "plt.savefig('top_materials_13_03.jpeg')"
   ]
  }
 ],
 "metadata": {
  "kernelspec": {
   "display_name": "Python 3 (ipykernel)",
   "language": "python",
   "name": "python3"
  },
  "language_info": {
   "codemirror_mode": {
    "name": "ipython",
    "version": 3
   },
   "file_extension": ".py",
   "mimetype": "text/x-python",
   "name": "python",
   "nbconvert_exporter": "python",
   "pygments_lexer": "ipython3",
   "version": "3.9.13"
  }
 },
 "nbformat": 4,
 "nbformat_minor": 5
}
